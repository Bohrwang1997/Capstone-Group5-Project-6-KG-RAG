{
  "cells": [
    {
      "cell_type": "code",
      "execution_count": 4,
      "metadata": {
        "application/vnd.databricks.v1+cell": {
          "cellMetadata": {
            "byteLimit": 2048000,
            "rowLimit": 10000
          },
          "inputWidgets": {},
          "nuid": "7f5dde6f-7d7a-4509-bfc6-804ac1784189",
          "showTitle": false,
          "title": ""
        },
        "colab": {
          "base_uri": "https://localhost:8080/"
        },
        "id": "jfoMfusqcMts",
        "outputId": "81c1d997-ba2f-481f-bd40-fbbcf815d366"
      },
      "outputs": [
        {
          "name": "stdout",
          "output_type": "stream",
          "text": [
            "Requirement already satisfied: torch in /usr/local/lib/python3.10/dist-packages (2.4.1+cu121)\n",
            "Requirement already satisfied: transformers in /usr/local/lib/python3.10/dist-packages (4.44.2)\n",
            "Requirement already satisfied: faiss-cpu in /usr/local/lib/python3.10/dist-packages (1.9.0)\n",
            "Requirement already satisfied: numpy in /usr/local/lib/python3.10/dist-packages (1.26.4)\n",
            "Requirement already satisfied: rouge-score in /usr/local/lib/python3.10/dist-packages (0.1.2)\n",
            "Requirement already satisfied: nltk in /usr/local/lib/python3.10/dist-packages (3.8.1)\n",
            "Requirement already satisfied: sacrebleu in /usr/local/lib/python3.10/dist-packages (2.4.3)\n",
            "Requirement already satisfied: filelock in /usr/local/lib/python3.10/dist-packages (from torch) (3.16.1)\n",
            "Requirement already satisfied: typing-extensions>=4.8.0 in /usr/local/lib/python3.10/dist-packages (from torch) (4.12.2)\n",
            "Requirement already satisfied: sympy in /usr/local/lib/python3.10/dist-packages (from torch) (1.13.3)\n",
            "Requirement already satisfied: networkx in /usr/local/lib/python3.10/dist-packages (from torch) (3.3)\n",
            "Requirement already satisfied: jinja2 in /usr/local/lib/python3.10/dist-packages (from torch) (3.1.4)\n",
            "Requirement already satisfied: fsspec in /usr/local/lib/python3.10/dist-packages (from torch) (2024.6.1)\n",
            "Requirement already satisfied: huggingface-hub<1.0,>=0.23.2 in /usr/local/lib/python3.10/dist-packages (from transformers) (0.24.7)\n",
            "Requirement already satisfied: packaging>=20.0 in /usr/local/lib/python3.10/dist-packages (from transformers) (24.1)\n",
            "Requirement already satisfied: pyyaml>=5.1 in /usr/local/lib/python3.10/dist-packages (from transformers) (6.0.2)\n",
            "Requirement already satisfied: regex!=2019.12.17 in /usr/local/lib/python3.10/dist-packages (from transformers) (2024.9.11)\n",
            "Requirement already satisfied: requests in /usr/local/lib/python3.10/dist-packages (from transformers) (2.32.3)\n",
            "Requirement already satisfied: safetensors>=0.4.1 in /usr/local/lib/python3.10/dist-packages (from transformers) (0.4.5)\n",
            "Requirement already satisfied: tokenizers<0.20,>=0.19 in /usr/local/lib/python3.10/dist-packages (from transformers) (0.19.1)\n",
            "Requirement already satisfied: tqdm>=4.27 in /usr/local/lib/python3.10/dist-packages (from transformers) (4.66.5)\n",
            "Requirement already satisfied: absl-py in /usr/local/lib/python3.10/dist-packages (from rouge-score) (1.4.0)\n",
            "Requirement already satisfied: six>=1.14.0 in /usr/local/lib/python3.10/dist-packages (from rouge-score) (1.16.0)\n",
            "Requirement already satisfied: click in /usr/local/lib/python3.10/dist-packages (from nltk) (8.1.7)\n",
            "Requirement already satisfied: joblib in /usr/local/lib/python3.10/dist-packages (from nltk) (1.4.2)\n",
            "Requirement already satisfied: portalocker in /usr/local/lib/python3.10/dist-packages (from sacrebleu) (2.10.1)\n",
            "Requirement already satisfied: tabulate>=0.8.9 in /usr/local/lib/python3.10/dist-packages (from sacrebleu) (0.9.0)\n",
            "Requirement already satisfied: colorama in /usr/local/lib/python3.10/dist-packages (from sacrebleu) (0.4.6)\n",
            "Requirement already satisfied: lxml in /usr/local/lib/python3.10/dist-packages (from sacrebleu) (4.9.4)\n",
            "Requirement already satisfied: MarkupSafe>=2.0 in /usr/local/lib/python3.10/dist-packages (from jinja2->torch) (2.1.5)\n",
            "Requirement already satisfied: charset-normalizer<4,>=2 in /usr/local/lib/python3.10/dist-packages (from requests->transformers) (3.3.2)\n",
            "Requirement already satisfied: idna<4,>=2.5 in /usr/local/lib/python3.10/dist-packages (from requests->transformers) (3.10)\n",
            "Requirement already satisfied: urllib3<3,>=1.21.1 in /usr/local/lib/python3.10/dist-packages (from requests->transformers) (2.2.3)\n",
            "Requirement already satisfied: certifi>=2017.4.17 in /usr/local/lib/python3.10/dist-packages (from requests->transformers) (2024.8.30)\n",
            "Requirement already satisfied: mpmath<1.4,>=1.1.0 in /usr/local/lib/python3.10/dist-packages (from sympy->torch) (1.3.0)\n",
            "Requirement already satisfied: sentence-transformers in /usr/local/lib/python3.10/dist-packages (3.1.1)\n",
            "Requirement already satisfied: transformers<5.0.0,>=4.38.0 in /usr/local/lib/python3.10/dist-packages (from sentence-transformers) (4.44.2)\n",
            "Requirement already satisfied: tqdm in /usr/local/lib/python3.10/dist-packages (from sentence-transformers) (4.66.5)\n",
            "Requirement already satisfied: torch>=1.11.0 in /usr/local/lib/python3.10/dist-packages (from sentence-transformers) (2.4.1+cu121)\n",
            "Requirement already satisfied: scikit-learn in /usr/local/lib/python3.10/dist-packages (from sentence-transformers) (1.5.2)\n",
            "Requirement already satisfied: scipy in /usr/local/lib/python3.10/dist-packages (from sentence-transformers) (1.13.1)\n",
            "Requirement already satisfied: huggingface-hub>=0.19.3 in /usr/local/lib/python3.10/dist-packages (from sentence-transformers) (0.24.7)\n",
            "Requirement already satisfied: Pillow in /usr/local/lib/python3.10/dist-packages (from sentence-transformers) (10.4.0)\n",
            "Requirement already satisfied: filelock in /usr/local/lib/python3.10/dist-packages (from huggingface-hub>=0.19.3->sentence-transformers) (3.16.1)\n",
            "Requirement already satisfied: fsspec>=2023.5.0 in /usr/local/lib/python3.10/dist-packages (from huggingface-hub>=0.19.3->sentence-transformers) (2024.6.1)\n",
            "Requirement already satisfied: packaging>=20.9 in /usr/local/lib/python3.10/dist-packages (from huggingface-hub>=0.19.3->sentence-transformers) (24.1)\n",
            "Requirement already satisfied: pyyaml>=5.1 in /usr/local/lib/python3.10/dist-packages (from huggingface-hub>=0.19.3->sentence-transformers) (6.0.2)\n",
            "Requirement already satisfied: requests in /usr/local/lib/python3.10/dist-packages (from huggingface-hub>=0.19.3->sentence-transformers) (2.32.3)\n",
            "Requirement already satisfied: typing-extensions>=3.7.4.3 in /usr/local/lib/python3.10/dist-packages (from huggingface-hub>=0.19.3->sentence-transformers) (4.12.2)\n",
            "Requirement already satisfied: sympy in /usr/local/lib/python3.10/dist-packages (from torch>=1.11.0->sentence-transformers) (1.13.3)\n",
            "Requirement already satisfied: networkx in /usr/local/lib/python3.10/dist-packages (from torch>=1.11.0->sentence-transformers) (3.3)\n",
            "Requirement already satisfied: jinja2 in /usr/local/lib/python3.10/dist-packages (from torch>=1.11.0->sentence-transformers) (3.1.4)\n",
            "Requirement already satisfied: numpy>=1.17 in /usr/local/lib/python3.10/dist-packages (from transformers<5.0.0,>=4.38.0->sentence-transformers) (1.26.4)\n",
            "Requirement already satisfied: regex!=2019.12.17 in /usr/local/lib/python3.10/dist-packages (from transformers<5.0.0,>=4.38.0->sentence-transformers) (2024.9.11)\n",
            "Requirement already satisfied: safetensors>=0.4.1 in /usr/local/lib/python3.10/dist-packages (from transformers<5.0.0,>=4.38.0->sentence-transformers) (0.4.5)\n",
            "Requirement already satisfied: tokenizers<0.20,>=0.19 in /usr/local/lib/python3.10/dist-packages (from transformers<5.0.0,>=4.38.0->sentence-transformers) (0.19.1)\n",
            "Requirement already satisfied: joblib>=1.2.0 in /usr/local/lib/python3.10/dist-packages (from scikit-learn->sentence-transformers) (1.4.2)\n",
            "Requirement already satisfied: threadpoolctl>=3.1.0 in /usr/local/lib/python3.10/dist-packages (from scikit-learn->sentence-transformers) (3.5.0)\n",
            "Requirement already satisfied: MarkupSafe>=2.0 in /usr/local/lib/python3.10/dist-packages (from jinja2->torch>=1.11.0->sentence-transformers) (2.1.5)\n",
            "Requirement already satisfied: charset-normalizer<4,>=2 in /usr/local/lib/python3.10/dist-packages (from requests->huggingface-hub>=0.19.3->sentence-transformers) (3.3.2)\n",
            "Requirement already satisfied: idna<4,>=2.5 in /usr/local/lib/python3.10/dist-packages (from requests->huggingface-hub>=0.19.3->sentence-transformers) (3.10)\n",
            "Requirement already satisfied: urllib3<3,>=1.21.1 in /usr/local/lib/python3.10/dist-packages (from requests->huggingface-hub>=0.19.3->sentence-transformers) (2.2.3)\n",
            "Requirement already satisfied: certifi>=2017.4.17 in /usr/local/lib/python3.10/dist-packages (from requests->huggingface-hub>=0.19.3->sentence-transformers) (2024.8.30)\n",
            "Requirement already satisfied: mpmath<1.4,>=1.1.0 in /usr/local/lib/python3.10/dist-packages (from sympy->torch>=1.11.0->sentence-transformers) (1.3.0)\n",
            "Requirement already satisfied: langchain in /usr/local/lib/python3.10/dist-packages (0.3.3)\n",
            "Requirement already satisfied: PyYAML>=5.3 in /usr/local/lib/python3.10/dist-packages (from langchain) (6.0.2)\n",
            "Requirement already satisfied: SQLAlchemy<3,>=1.4 in /usr/local/lib/python3.10/dist-packages (from langchain) (2.0.35)\n",
            "Requirement already satisfied: aiohttp<4.0.0,>=3.8.3 in /usr/local/lib/python3.10/dist-packages (from langchain) (3.10.8)\n",
            "Requirement already satisfied: async-timeout<5.0.0,>=4.0.0 in /usr/local/lib/python3.10/dist-packages (from langchain) (4.0.3)\n",
            "Requirement already satisfied: langchain-core<0.4.0,>=0.3.10 in /usr/local/lib/python3.10/dist-packages (from langchain) (0.3.10)\n",
            "Requirement already satisfied: langchain-text-splitters<0.4.0,>=0.3.0 in /usr/local/lib/python3.10/dist-packages (from langchain) (0.3.0)\n",
            "Requirement already satisfied: langsmith<0.2.0,>=0.1.17 in /usr/local/lib/python3.10/dist-packages (from langchain) (0.1.132)\n",
            "Requirement already satisfied: numpy<2,>=1 in /usr/local/lib/python3.10/dist-packages (from langchain) (1.26.4)\n",
            "Requirement already satisfied: pydantic<3.0.0,>=2.7.4 in /usr/local/lib/python3.10/dist-packages (from langchain) (2.9.2)\n",
            "Requirement already satisfied: requests<3,>=2 in /usr/local/lib/python3.10/dist-packages (from langchain) (2.32.3)\n",
            "Requirement already satisfied: tenacity!=8.4.0,<9.0.0,>=8.1.0 in /usr/local/lib/python3.10/dist-packages (from langchain) (8.5.0)\n",
            "Requirement already satisfied: aiohappyeyeballs>=2.3.0 in /usr/local/lib/python3.10/dist-packages (from aiohttp<4.0.0,>=3.8.3->langchain) (2.4.3)\n",
            "Requirement already satisfied: aiosignal>=1.1.2 in /usr/local/lib/python3.10/dist-packages (from aiohttp<4.0.0,>=3.8.3->langchain) (1.3.1)\n",
            "Requirement already satisfied: attrs>=17.3.0 in /usr/local/lib/python3.10/dist-packages (from aiohttp<4.0.0,>=3.8.3->langchain) (24.2.0)\n",
            "Requirement already satisfied: frozenlist>=1.1.1 in /usr/local/lib/python3.10/dist-packages (from aiohttp<4.0.0,>=3.8.3->langchain) (1.4.1)\n",
            "Requirement already satisfied: multidict<7.0,>=4.5 in /usr/local/lib/python3.10/dist-packages (from aiohttp<4.0.0,>=3.8.3->langchain) (6.1.0)\n",
            "Requirement already satisfied: yarl<2.0,>=1.12.0 in /usr/local/lib/python3.10/dist-packages (from aiohttp<4.0.0,>=3.8.3->langchain) (1.13.1)\n",
            "Requirement already satisfied: jsonpatch<2.0,>=1.33 in /usr/local/lib/python3.10/dist-packages (from langchain-core<0.4.0,>=0.3.10->langchain) (1.33)\n",
            "Requirement already satisfied: packaging<25,>=23.2 in /usr/local/lib/python3.10/dist-packages (from langchain-core<0.4.0,>=0.3.10->langchain) (24.1)\n",
            "Requirement already satisfied: typing-extensions>=4.7 in /usr/local/lib/python3.10/dist-packages (from langchain-core<0.4.0,>=0.3.10->langchain) (4.12.2)\n",
            "Requirement already satisfied: httpx<1,>=0.23.0 in /usr/local/lib/python3.10/dist-packages (from langsmith<0.2.0,>=0.1.17->langchain) (0.27.2)\n",
            "Requirement already satisfied: orjson<4.0.0,>=3.9.14 in /usr/local/lib/python3.10/dist-packages (from langsmith<0.2.0,>=0.1.17->langchain) (3.10.7)\n",
            "Requirement already satisfied: requests-toolbelt<2.0.0,>=1.0.0 in /usr/local/lib/python3.10/dist-packages (from langsmith<0.2.0,>=0.1.17->langchain) (1.0.0)\n",
            "Requirement already satisfied: annotated-types>=0.6.0 in /usr/local/lib/python3.10/dist-packages (from pydantic<3.0.0,>=2.7.4->langchain) (0.7.0)\n",
            "Requirement already satisfied: pydantic-core==2.23.4 in /usr/local/lib/python3.10/dist-packages (from pydantic<3.0.0,>=2.7.4->langchain) (2.23.4)\n",
            "Requirement already satisfied: charset-normalizer<4,>=2 in /usr/local/lib/python3.10/dist-packages (from requests<3,>=2->langchain) (3.3.2)\n",
            "Requirement already satisfied: idna<4,>=2.5 in /usr/local/lib/python3.10/dist-packages (from requests<3,>=2->langchain) (3.10)\n",
            "Requirement already satisfied: urllib3<3,>=1.21.1 in /usr/local/lib/python3.10/dist-packages (from requests<3,>=2->langchain) (2.2.3)\n",
            "Requirement already satisfied: certifi>=2017.4.17 in /usr/local/lib/python3.10/dist-packages (from requests<3,>=2->langchain) (2024.8.30)\n",
            "Requirement already satisfied: greenlet!=0.4.17 in /usr/local/lib/python3.10/dist-packages (from SQLAlchemy<3,>=1.4->langchain) (3.1.1)\n",
            "Requirement already satisfied: anyio in /usr/local/lib/python3.10/dist-packages (from httpx<1,>=0.23.0->langsmith<0.2.0,>=0.1.17->langchain) (3.7.1)\n",
            "Requirement already satisfied: httpcore==1.* in /usr/local/lib/python3.10/dist-packages (from httpx<1,>=0.23.0->langsmith<0.2.0,>=0.1.17->langchain) (1.0.6)\n",
            "Requirement already satisfied: sniffio in /usr/local/lib/python3.10/dist-packages (from httpx<1,>=0.23.0->langsmith<0.2.0,>=0.1.17->langchain) (1.3.1)\n",
            "Requirement already satisfied: h11<0.15,>=0.13 in /usr/local/lib/python3.10/dist-packages (from httpcore==1.*->httpx<1,>=0.23.0->langsmith<0.2.0,>=0.1.17->langchain) (0.14.0)\n",
            "Requirement already satisfied: jsonpointer>=1.9 in /usr/local/lib/python3.10/dist-packages (from jsonpatch<2.0,>=1.33->langchain-core<0.4.0,>=0.3.10->langchain) (3.0.0)\n",
            "Requirement already satisfied: exceptiongroup in /usr/local/lib/python3.10/dist-packages (from anyio->httpx<1,>=0.23.0->langsmith<0.2.0,>=0.1.17->langchain) (1.2.2)\n",
            "Collecting langchain-community\n",
            "  Downloading langchain_community-0.3.2-py3-none-any.whl.metadata (2.8 kB)\n",
            "Requirement already satisfied: PyYAML>=5.3 in /usr/local/lib/python3.10/dist-packages (from langchain-community) (6.0.2)\n",
            "Requirement already satisfied: SQLAlchemy<3,>=1.4 in /usr/local/lib/python3.10/dist-packages (from langchain-community) (2.0.35)\n",
            "Requirement already satisfied: aiohttp<4.0.0,>=3.8.3 in /usr/local/lib/python3.10/dist-packages (from langchain-community) (3.10.8)\n",
            "Collecting dataclasses-json<0.7,>=0.5.7 (from langchain-community)\n",
            "  Downloading dataclasses_json-0.6.7-py3-none-any.whl.metadata (25 kB)\n",
            "Requirement already satisfied: langchain<0.4.0,>=0.3.3 in /usr/local/lib/python3.10/dist-packages (from langchain-community) (0.3.3)\n",
            "Requirement already satisfied: langchain-core<0.4.0,>=0.3.10 in /usr/local/lib/python3.10/dist-packages (from langchain-community) (0.3.10)\n",
            "Requirement already satisfied: langsmith<0.2.0,>=0.1.125 in /usr/local/lib/python3.10/dist-packages (from langchain-community) (0.1.132)\n",
            "Requirement already satisfied: numpy<2,>=1 in /usr/local/lib/python3.10/dist-packages (from langchain-community) (1.26.4)\n",
            "Collecting pydantic-settings<3.0.0,>=2.4.0 (from langchain-community)\n",
            "  Downloading pydantic_settings-2.5.2-py3-none-any.whl.metadata (3.5 kB)\n",
            "Requirement already satisfied: requests<3,>=2 in /usr/local/lib/python3.10/dist-packages (from langchain-community) (2.32.3)\n",
            "Requirement already satisfied: tenacity!=8.4.0,<9.0.0,>=8.1.0 in /usr/local/lib/python3.10/dist-packages (from langchain-community) (8.5.0)\n",
            "Requirement already satisfied: aiohappyeyeballs>=2.3.0 in /usr/local/lib/python3.10/dist-packages (from aiohttp<4.0.0,>=3.8.3->langchain-community) (2.4.3)\n",
            "Requirement already satisfied: aiosignal>=1.1.2 in /usr/local/lib/python3.10/dist-packages (from aiohttp<4.0.0,>=3.8.3->langchain-community) (1.3.1)\n",
            "Requirement already satisfied: attrs>=17.3.0 in /usr/local/lib/python3.10/dist-packages (from aiohttp<4.0.0,>=3.8.3->langchain-community) (24.2.0)\n",
            "Requirement already satisfied: frozenlist>=1.1.1 in /usr/local/lib/python3.10/dist-packages (from aiohttp<4.0.0,>=3.8.3->langchain-community) (1.4.1)\n",
            "Requirement already satisfied: multidict<7.0,>=4.5 in /usr/local/lib/python3.10/dist-packages (from aiohttp<4.0.0,>=3.8.3->langchain-community) (6.1.0)\n",
            "Requirement already satisfied: yarl<2.0,>=1.12.0 in /usr/local/lib/python3.10/dist-packages (from aiohttp<4.0.0,>=3.8.3->langchain-community) (1.13.1)\n",
            "Requirement already satisfied: async-timeout<5.0,>=4.0 in /usr/local/lib/python3.10/dist-packages (from aiohttp<4.0.0,>=3.8.3->langchain-community) (4.0.3)\n",
            "Collecting marshmallow<4.0.0,>=3.18.0 (from dataclasses-json<0.7,>=0.5.7->langchain-community)\n",
            "  Downloading marshmallow-3.22.0-py3-none-any.whl.metadata (7.2 kB)\n",
            "Collecting typing-inspect<1,>=0.4.0 (from dataclasses-json<0.7,>=0.5.7->langchain-community)\n",
            "  Downloading typing_inspect-0.9.0-py3-none-any.whl.metadata (1.5 kB)\n",
            "Requirement already satisfied: langchain-text-splitters<0.4.0,>=0.3.0 in /usr/local/lib/python3.10/dist-packages (from langchain<0.4.0,>=0.3.3->langchain-community) (0.3.0)\n",
            "Requirement already satisfied: pydantic<3.0.0,>=2.7.4 in /usr/local/lib/python3.10/dist-packages (from langchain<0.4.0,>=0.3.3->langchain-community) (2.9.2)\n",
            "Requirement already satisfied: jsonpatch<2.0,>=1.33 in /usr/local/lib/python3.10/dist-packages (from langchain-core<0.4.0,>=0.3.10->langchain-community) (1.33)\n",
            "Requirement already satisfied: packaging<25,>=23.2 in /usr/local/lib/python3.10/dist-packages (from langchain-core<0.4.0,>=0.3.10->langchain-community) (24.1)\n",
            "Requirement already satisfied: typing-extensions>=4.7 in /usr/local/lib/python3.10/dist-packages (from langchain-core<0.4.0,>=0.3.10->langchain-community) (4.12.2)\n",
            "Requirement already satisfied: httpx<1,>=0.23.0 in /usr/local/lib/python3.10/dist-packages (from langsmith<0.2.0,>=0.1.125->langchain-community) (0.27.2)\n",
            "Requirement already satisfied: orjson<4.0.0,>=3.9.14 in /usr/local/lib/python3.10/dist-packages (from langsmith<0.2.0,>=0.1.125->langchain-community) (3.10.7)\n",
            "Requirement already satisfied: requests-toolbelt<2.0.0,>=1.0.0 in /usr/local/lib/python3.10/dist-packages (from langsmith<0.2.0,>=0.1.125->langchain-community) (1.0.0)\n",
            "Collecting python-dotenv>=0.21.0 (from pydantic-settings<3.0.0,>=2.4.0->langchain-community)\n",
            "  Downloading python_dotenv-1.0.1-py3-none-any.whl.metadata (23 kB)\n",
            "Requirement already satisfied: charset-normalizer<4,>=2 in /usr/local/lib/python3.10/dist-packages (from requests<3,>=2->langchain-community) (3.3.2)\n",
            "Requirement already satisfied: idna<4,>=2.5 in /usr/local/lib/python3.10/dist-packages (from requests<3,>=2->langchain-community) (3.10)\n",
            "Requirement already satisfied: urllib3<3,>=1.21.1 in /usr/local/lib/python3.10/dist-packages (from requests<3,>=2->langchain-community) (2.2.3)\n",
            "Requirement already satisfied: certifi>=2017.4.17 in /usr/local/lib/python3.10/dist-packages (from requests<3,>=2->langchain-community) (2024.8.30)\n",
            "Requirement already satisfied: greenlet!=0.4.17 in /usr/local/lib/python3.10/dist-packages (from SQLAlchemy<3,>=1.4->langchain-community) (3.1.1)\n",
            "Requirement already satisfied: anyio in /usr/local/lib/python3.10/dist-packages (from httpx<1,>=0.23.0->langsmith<0.2.0,>=0.1.125->langchain-community) (3.7.1)\n",
            "Requirement already satisfied: httpcore==1.* in /usr/local/lib/python3.10/dist-packages (from httpx<1,>=0.23.0->langsmith<0.2.0,>=0.1.125->langchain-community) (1.0.6)\n",
            "Requirement already satisfied: sniffio in /usr/local/lib/python3.10/dist-packages (from httpx<1,>=0.23.0->langsmith<0.2.0,>=0.1.125->langchain-community) (1.3.1)\n",
            "Requirement already satisfied: h11<0.15,>=0.13 in /usr/local/lib/python3.10/dist-packages (from httpcore==1.*->httpx<1,>=0.23.0->langsmith<0.2.0,>=0.1.125->langchain-community) (0.14.0)\n",
            "Requirement already satisfied: jsonpointer>=1.9 in /usr/local/lib/python3.10/dist-packages (from jsonpatch<2.0,>=1.33->langchain-core<0.4.0,>=0.3.10->langchain-community) (3.0.0)\n",
            "Requirement already satisfied: annotated-types>=0.6.0 in /usr/local/lib/python3.10/dist-packages (from pydantic<3.0.0,>=2.7.4->langchain<0.4.0,>=0.3.3->langchain-community) (0.7.0)\n",
            "Requirement already satisfied: pydantic-core==2.23.4 in /usr/local/lib/python3.10/dist-packages (from pydantic<3.0.0,>=2.7.4->langchain<0.4.0,>=0.3.3->langchain-community) (2.23.4)\n",
            "Collecting mypy-extensions>=0.3.0 (from typing-inspect<1,>=0.4.0->dataclasses-json<0.7,>=0.5.7->langchain-community)\n",
            "  Downloading mypy_extensions-1.0.0-py3-none-any.whl.metadata (1.1 kB)\n",
            "Requirement already satisfied: exceptiongroup in /usr/local/lib/python3.10/dist-packages (from anyio->httpx<1,>=0.23.0->langsmith<0.2.0,>=0.1.125->langchain-community) (1.2.2)\n",
            "Downloading langchain_community-0.3.2-py3-none-any.whl (2.4 MB)\n",
            "\u001b[2K   \u001b[90m━━━━━━━━━━━━━━━━━━━━━━━━━━━━━━━━━━━━━━━━\u001b[0m \u001b[32m2.4/2.4 MB\u001b[0m \u001b[31m66.0 MB/s\u001b[0m eta \u001b[36m0:00:00\u001b[0m\n",
            "\u001b[?25hDownloading dataclasses_json-0.6.7-py3-none-any.whl (28 kB)\n",
            "Downloading pydantic_settings-2.5.2-py3-none-any.whl (26 kB)\n",
            "Downloading marshmallow-3.22.0-py3-none-any.whl (49 kB)\n",
            "\u001b[2K   \u001b[90m━━━━━━━━━━━━━━━━━━━━━━━━━━━━━━━━━━━━━━━━\u001b[0m \u001b[32m49.3/49.3 kB\u001b[0m \u001b[31m3.6 MB/s\u001b[0m eta \u001b[36m0:00:00\u001b[0m\n",
            "\u001b[?25hDownloading python_dotenv-1.0.1-py3-none-any.whl (19 kB)\n",
            "Downloading typing_inspect-0.9.0-py3-none-any.whl (8.8 kB)\n",
            "Downloading mypy_extensions-1.0.0-py3-none-any.whl (4.7 kB)\n",
            "Installing collected packages: python-dotenv, mypy-extensions, marshmallow, typing-inspect, pydantic-settings, dataclasses-json, langchain-community\n",
            "Successfully installed dataclasses-json-0.6.7 langchain-community-0.3.2 marshmallow-3.22.0 mypy-extensions-1.0.0 pydantic-settings-2.5.2 python-dotenv-1.0.1 typing-inspect-0.9.0\n"
          ]
        }
      ],
      "source": [
        "%pip install torch transformers faiss-cpu numpy rouge-score nltk sacrebleu\n",
        "%pip install sentence-transformers\n",
        "%pip install langchain\n",
        "%pip install -U langchain-community\n"
      ]
    },
    {
      "cell_type": "code",
      "execution_count": 6,
      "metadata": {
        "application/vnd.databricks.v1+cell": {
          "cellMetadata": {
            "byteLimit": 2048000,
            "rowLimit": 10000
          },
          "inputWidgets": {},
          "nuid": "abb70b72-4173-40ec-aece-8ea9e8ed988b",
          "showTitle": false,
          "title": ""
        },
        "id": "GyMw3UwicMtt"
      },
      "outputs": [],
      "source": [
        "# import libraries\n",
        "import torch\n",
        "from transformers import T5Tokenizer, T5ForConditionalGeneration\n",
        "from langchain.embeddings import HuggingFaceEmbeddings\n",
        "from langchain.vectorstores import FAISS\n",
        "import faiss\n",
        "import time\n",
        "import psutil\n",
        "from functools import lru_cache\n",
        "import nltk\n",
        "from nltk.translate.bleu_score import sentence_bleu, SmoothingFunction"
      ]
    },
    {
      "cell_type": "code",
      "execution_count": 14,
      "metadata": {
        "id": "M-89dLxbeM7C"
      },
      "outputs": [],
      "source": [
        "def clean_definitions(definitions):\n",
        "    cleaned_definitions = []\n",
        "    for definition in definitions:\n",
        "        cleaned_definition = definition.strip().replace('\\n', ' ').replace('&lt;', '<').replace('&gt;', '>')\n",
        "        cleaned_definitions.append(cleaned_definition)\n",
        "    return cleaned_definitions\n"
      ]
    },
    {
      "cell_type": "code",
      "execution_count": 7,
      "metadata": {
        "application/vnd.databricks.v1+cell": {
          "cellMetadata": {
            "byteLimit": 2048000,
            "rowLimit": 10000
          },
          "inputWidgets": {},
          "nuid": "ad36b9c6-8aa3-48df-b8e1-c9e0b0e7448a",
          "showTitle": false,
          "title": ""
        },
        "id": "ZJRAJ7OScMtt"
      },
      "outputs": [],
      "source": [
        "# define class fit the format\n",
        "class Document:\n",
        "    def __init__(self, page_content, metadata=None, doc_id=None):\n",
        "        self.page_content = page_content\n",
        "        self.metadata = metadata or {}\n",
        "        self.id = doc_id if doc_id is not None else hash(page_content)\n",
        "\n",
        "\n",
        "# Load definition files\n",
        "def load_definitions(file_path):\n",
        "    with open(file_path, 'r', encoding='utf-8') as file:\n",
        "        return [line.strip() for line in file if line.strip()]"
      ]
    },
    {
      "cell_type": "code",
      "execution_count": 8,
      "metadata": {
        "application/vnd.databricks.v1+cell": {
          "cellMetadata": {
            "byteLimit": 2048000,
            "rowLimit": 10000
          },
          "inputWidgets": {},
          "nuid": "87a1163a-19b4-44c5-88fa-f7c3938b0500",
          "showTitle": false,
          "title": ""
        },
        "id": "FdDufz70cMtt"
      },
      "outputs": [],
      "source": [
        "# Generate embeddings for definitions\n",
        "class Retriever:\n",
        "    def __init__(self, definitions, num_retrieved_docs=5):\n",
        "        all_documents = [Document(definition, doc_id=str(i)) for i, definition in enumerate(definitions)]\n",
        "        embeddings = HuggingFaceEmbeddings(model_name=\"all-MiniLM-L6-v2\")\n",
        "        self.db = FAISS.from_documents(all_documents, embeddings)\n",
        "        self.retriever = self.db.as_retriever(search_kwargs={\"k\": num_retrieved_docs})\n",
        "        self.index = self.db.index\n",
        "\n",
        "    def search(self, query):\n",
        "        return self.retriever.get_relevant_documents(query)"
      ]
    },
    {
      "cell_type": "code",
      "execution_count": 36,
      "metadata": {
        "application/vnd.databricks.v1+cell": {
          "cellMetadata": {
            "byteLimit": 2048000,
            "rowLimit": 10000
          },
          "inputWidgets": {},
          "nuid": "418ad109-15af-4af4-8c9a-784a55147565",
          "showTitle": false,
          "title": ""
        },
        "id": "-KSZ9zoXcMtt"
      },
      "outputs": [],
      "source": [
        "# setup the generation model\n",
        "class T5Assistant:\n",
        "    def __init__(self, model_name='t5-small'):\n",
        "        self.tokenizer = T5Tokenizer.from_pretrained(model_name)\n",
        "        self.model = T5ForConditionalGeneration.from_pretrained(model_name)\n",
        "\n",
        "    def create_prompt(self, query, retrieved_info):\n",
        "       return (f\"Answer the question clearly based on the relevant information provided.\\n\"\n",
        "                f\"Query: {query}\\n\"\n",
        "                f\"Relevant Information: {retrieved_info}\\n\"\n",
        "                f\"Response:\")\n",
        "\n",
        "    def generate_reply(self, query, retrieved_info):\n",
        "        prompt = self.create_prompt(query, retrieved_info)\n",
        "        input_ids = self.tokenizer(prompt, return_tensors=\"pt\", padding=True, truncation=True).input_ids\n",
        "        outputs = self.model.generate(input_ids, max_length=150, num_beams=5, top_k=50, temperature=0.7, early_stopping=True)\n",
        "        return self.tokenizer.decode(outputs[0], skip_special_tokens=True)\n",
        "\n",
        "\n"
      ]
    },
    {
      "cell_type": "code",
      "execution_count": 10,
      "metadata": {
        "id": "vbhB4CHzdNNQ"
      },
      "outputs": [],
      "source": [
        "def cleanreplys(reply):\n",
        "    cleaned_reply = reply.replace(\"Instruction:\", \"\").replace(\"Relevant information:\", \"\").strip()\n",
        "    return cleaned_reply\n"
      ]
    },
    {
      "cell_type": "code",
      "execution_count": 11,
      "metadata": {
        "application/vnd.databricks.v1+cell": {
          "cellMetadata": {
            "byteLimit": 2048000,
            "rowLimit": 10000
          },
          "inputWidgets": {},
          "nuid": "b8e4f953-4e65-49c9-8ded-1ff54d857952",
          "showTitle": false,
          "title": ""
        },
        "id": "0uEtCWmwcMtt"
      },
      "outputs": [],
      "source": [
        "def calculate_bleu(reference_list, candidate):\n",
        "    references = [ref.split() for ref in reference_list]\n",
        "    candidate = candidate.split()\n",
        "    smoothie = SmoothingFunction().method4\n",
        "    return sentence_bleu(references, candidate, smoothing_function=smoothie)\n",
        "\n",
        "def print_memory_usage():\n",
        "    process = psutil.Process()\n",
        "    memory_info = process.memory_info()\n",
        "    print(f\"Memory Usage: {memory_info.rss / 1024 / 1024:.2f} MB\")\n",
        "\n",
        "@lru_cache(maxsize=10)\n",
        "def cached_generate_reply(assistant, query, retrieved_info):\n",
        "    return assistant.generate_reply(query, retrieved_info)"
      ]
    },
    {
      "cell_type": "code",
      "execution_count": 37,
      "metadata": {
        "application/vnd.databricks.v1+cell": {
          "cellMetadata": {
            "byteLimit": 2048000,
            "rowLimit": 10000
          },
          "inputWidgets": {},
          "nuid": "937e68e2-0306-439e-b265-018369e1e713",
          "showTitle": false,
          "title": ""
        },
        "colab": {
          "base_uri": "https://localhost:8080/"
        },
        "id": "JMIHmTOUcMtt",
        "outputId": "7074c95e-7698-43fc-8a03-9c0899878bbf"
      },
      "outputs": [
        {
          "name": "stderr",
          "output_type": "stream",
          "text": [
            "/usr/local/lib/python3.10/dist-packages/transformers/generation/configuration_utils.py:567: UserWarning: `do_sample` is set to `False`. However, `temperature` is set to `0.7` -- this flag is only used in sample-based generation modes. You should set `do_sample=True` or unset `temperature`.\n",
            "  warnings.warn(\n"
          ]
        },
        {
          "name": "stdout",
          "output_type": "stream",
          "text": [
            "Query: What is the definition of Articulation?\n",
            "Generated Reply:\n",
            ": What is the definition of Articulation? Relevant Information: Articulation is Arrangements enabling students to progress from a completed qualification to another with admission and/or credit in a defined qualification pathway Or qualifying to enter the Bachelor program. created by TEQSA Matriculation is b>Matriculation means being admitted to a university having met the entry requirements to do so. /b> created by NULL - an ability to present Response:\n",
            "Reference Answers:\n",
            "['Articulation is Arrangements enabling students to progress from a completed qualification to another with admission and/or credit in a defined qualification pathway  Or qualifying to enter the Bachelor program. created by TEQSA', 'Matriculation is <b>Matriculation means being admitted to a university having met the entry requirements to do so. </b> created by NULL', '- an ability to present', '(c)   a level of academic achievement to move from a lower qualification to a higher qualification in nested courses or to articulate from one course to another.', 'Defined in our student contracts as : the person that']\n",
            "BLEU Score: 0.712007987362893\n",
            "Memory Usage: 15103.07 MB\n",
            "Time taken for this query: 3.01 seconds\n",
            "\n"
          ]
        },
        {
          "name": "stderr",
          "output_type": "stream",
          "text": [
            "/usr/local/lib/python3.10/dist-packages/transformers/generation/configuration_utils.py:567: UserWarning: `do_sample` is set to `False`. However, `temperature` is set to `0.7` -- this flag is only used in sample-based generation modes. You should set `do_sample=True` or unset `temperature`.\n",
            "  warnings.warn(\n"
          ]
        },
        {
          "name": "stdout",
          "output_type": "stream",
          "text": [
            "Query: Which accreditation framework is mentioned under the definition of Doctoral Degree?\n",
            "Generated Reply:\n",
            "based on the relevant information provided. Query: Which accreditation framework is mentioned under the definition of Doctoral Degree? Query: Which accreditation framework is mentioned under the definition of Doctoral Degree? Query: Which accreditation framework is mentioned under the definition of Doctoral Degree?\n",
            "Reference Answers:\n",
            "['\"Doctoral Degree is Course with major research component: comprised of two-thirds or more research leading to a thesis/dissertation OR qualifies individuals who apply a substantial body of knowledge to research, investigate and develop new knowledge, in one or more fields of investigation, scholarship or professional practice. Two forms of Doctoral Degree with the same descriptor within the Doctoral Degree qualification type: the Doctoral Degree (Research) and the Doctoral Degree (Professional). Research is the defining characteristic of all Doctoral Degree qualifications. The research Doctoral Degree (typically referred to as a Doctor of Philosophy) makes a significant and original contribution to knowledge; the professional Doctoral Degree (typically titled Doctor of [field of study]) makes a significant and original contribution to knowledge in the context of professional practice. Learning outcomes and research may differ between the different forms of Doctoral Degree qualifications. Designed and accredited to enable graduates to demonstrate the learning outcomes specified in the level 10 criteria and the Doctoral Degree. created by AQF (Australian Qualifications Framework)\"', 'Academic Accreditation is Approval process by an accrediting authority of a learning program leading to an AQF qualification using the quality assurance standards for the relevant education and training sector OR the evaluation of a course of study (either by TEQSA or by a self-accrediting provider such as a university) against course requirements specified in the Higher Education Standards Framework. created by AQF (Australian Qualifications Framework)', '\"Graduate Certificate is Qualifies individuals who apply a body of knowledge in a range of contexts to undertake professional or highly skilled work and as a pathway for further learning. Designed and accredited to enable graduates to demonstrate the learning outcomes expressed as knowledge, skills and the application of knowledge and skills specified in the level 8 criteria and the Graduate Certificate descriptor. Graduate Certificate qualifications are available for accreditation and issuance in both higher education and vocational education and training. created by AQF (Australian Qualifications Framework)\"', '\"Graduate Diploma is Qualifies individuals who apply a body of knowledge in a range of contexts to undertake professional or highly skilled work and as a pathway for further learning. Designed and accredited to enable graduates to demonstrate the learning outcomes expressed as knowledge, skills and the application of knowledge and skills specified in the level 8 criteria and the Graduate Diploma descriptor. Graduate Diploma qualifications are available for accreditation and issuance in both higher education and vocational education and training. created by AQF (Australian Qualifications Framework)\"', '\"Diploma (Higher Education Diploma)\\xa0 is Qualifies individuals who apply integrated technical and theoretical concepts in a broad range of contexts to undertake advanced skilled or paraprofessional work and as a pathway for further learning. Designed and accredited to enable graduates to demonstrate the learning outcomes expressed as knowledge, skills and the application of knowledge and skills specified in the level 5 criteria and the Diploma descriptor. Qualifications are available for accreditation and issuance in both higher education and vocational education and training OR a qualification with learning outcomes that apply integrated technical and theoretical concepts in a broad range of contexts to undertake advanced skilled or paraprofessional work, and as a pathway to further learning. created by AQF (Australian Qualifications Framework)\"']\n",
            "BLEU Score: 0.018255661195745405\n",
            "Memory Usage: 15103.07 MB\n",
            "Time taken for this query: 2.13 seconds\n",
            "\n"
          ]
        },
        {
          "name": "stderr",
          "output_type": "stream",
          "text": [
            "/usr/local/lib/python3.10/dist-packages/transformers/generation/configuration_utils.py:567: UserWarning: `do_sample` is set to `False`. However, `temperature` is set to `0.7` -- this flag is only used in sample-based generation modes. You should set `do_sample=True` or unset `temperature`.\n",
            "  warnings.warn(\n"
          ]
        },
        {
          "name": "stdout",
          "output_type": "stream",
          "text": [
            "Query: Which organization is referenced in the definition of Assessment?\n",
            "Generated Reply:\n",
            ": Which organization is referenced in the definition of Assessment? Query: Which organization is referenced in the definition of Assessment? Answer the question clearly based on the relevant information provided. Query: Which organization is referenced in the definition of Assessment?\n",
            "Reference Answers:\n",
            "['\"Assessment is Assessment is the process of appraising, evaluating and making a judgment about someone\\'s knowledge, skills and ability in order to determine if they have met with and achieved the designated learning outcomes of individual units of study.', '\"Assessment may be formative or summative and occur via a number of tactics e.g. written and oral tests and examinations; essays; engagement in tutorials and group projects; interviews; observations; class quizzes etc created by TEQSA\"\"\"', 'Assessment Result is The mark given for an assessment item created by The University of Western Australia', '\"Examination is Summative assessment where a student is required to undertake a specified academic task within a specified period of time, normally between one and three hours. The location of the examination and access to external assistance is regulated. created by HESA\"', '\"Credit from Prior Learning is Recognition of Prior Learning is the process of assessment so Credit for Prior Learning will be the outcome of the assessment']\n",
            "BLEU Score: 0.013005314864399653\n",
            "Memory Usage: 15103.07 MB\n",
            "Time taken for this query: 1.56 seconds\n",
            "\n"
          ]
        },
        {
          "name": "stderr",
          "output_type": "stream",
          "text": [
            "/usr/local/lib/python3.10/dist-packages/transformers/generation/configuration_utils.py:567: UserWarning: `do_sample` is set to `False`. However, `temperature` is set to `0.7` -- this flag is only used in sample-based generation modes. You should set `do_sample=True` or unset `temperature`.\n",
            "  warnings.warn(\n"
          ]
        },
        {
          "name": "stdout",
          "output_type": "stream",
          "text": [
            "Query: What is the difference between a Bachelor Degree and a Bachelor Honours Degree with reference to qualification level in the AQF?\n",
            "Generated Reply:\n",
            ": What is the difference between a Bachelor Degree and a Bachelor Honours Degree? Query: What is the difference between a Bachelor Degree and a Bachelor Honours Degree with reference to qualification level in the AQF?\n",
            "Reference Answers:\n",
            "['\"Bachelor Honours Degree is Qualifies individuals who apply a body of knowledge in a specific context to undertake professional work and as a pathway for research and further learning. Bachelor Honours Degree qualifications are located at level 8 of the Australian Qualifications Framework. Qualifications must be designed and accredited to enable graduates to demonstrate the learning outcomes expressed as knowledge, skills and the application of knowledge and skills specified in the level 8 criteria and the Bachelor Degree descriptor. created by AQF (Australian Qualifications Framework)\"', '\"Bachelor Degree is Qualifies individuals who apply a broad and coherent body of knowledge in a range of contexts to undertake professional work and as a pathway for further learning. Qualifications must be designed and accredited to enable graduates to demonstrate learning outcomes expressed as knowledge, skills and the application of knowledge and skills specified in the level 7 criteria and the Bachelor Degree descriptor. created by AQF (Australian Qualifications Framework)\"', '\"Associate Degree\\xa0 is Qualification type for individuals who apply underpinning technical and theoretical knowledge in a range of contexts to undertake paraprofessional work and as a pathway for further learning. Must be designed and accredited to enable graduates to demonstrate the learning outcomes expressed as knowledge, skills and the application of knowledge and skills specified in the level 6 criteria and the Associate Degree descriptor OR lower level undergraduate degree usually completed in two years. created by AQF (Australian Qualifications Framework)\"', '\"Diploma (Higher Education Diploma)\\xa0 is Qualifies individuals who apply integrated technical and theoretical concepts in a broad range of contexts to undertake advanced skilled or paraprofessional work and as a pathway for further learning. Designed and accredited to enable graduates to demonstrate the learning outcomes expressed as knowledge, skills and the application of knowledge and skills specified in the level 5 criteria and the Diploma descriptor. Qualifications are available for accreditation and issuance in both higher education and vocational education and training OR a qualification with learning outcomes that apply integrated technical and theoretical concepts in a broad range of contexts to undertake advanced skilled or paraprofessional work, and as a pathway to further learning. created by AQF (Australian Qualifications Framework)\"', '\"Graduate Certificate is Qualifies individuals who apply a body of knowledge in a range of contexts to undertake professional or highly skilled work and as a pathway for further learning. Designed and accredited to enable graduates to demonstrate the learning outcomes expressed as knowledge, skills and the application of knowledge and skills specified in the level 8 criteria and the Graduate Certificate descriptor. Graduate Certificate qualifications are available for accreditation and issuance in both higher education and vocational education and training. created by AQF (Australian Qualifications Framework)\"']\n",
            "BLEU Score: 0.025994202462860033\n",
            "Memory Usage: 15103.07 MB\n",
            "Time taken for this query: 2.23 seconds\n",
            "\n"
          ]
        },
        {
          "name": "stderr",
          "output_type": "stream",
          "text": [
            "/usr/local/lib/python3.10/dist-packages/transformers/generation/configuration_utils.py:567: UserWarning: `do_sample` is set to `False`. However, `temperature` is set to `0.7` -- this flag is only used in sample-based generation modes. You should set `do_sample=True` or unset `temperature`.\n",
            "  warnings.warn(\n"
          ]
        },
        {
          "name": "stdout",
          "output_type": "stream",
          "text": [
            "Query: If a student studies in a foreign educational institution and is not a citizen or permanent resident of Australia, what term would the dataset use to categorize them as per the definitions?\n",
            "Generated Reply:\n",
            "students who study in foreign educational institutions. In Australia you are considered to be an overseas student if you’re not an Australian citizen \"International Student is Any student who is not a domestic student OR a student who is NOT one of the following: Destination Provider home Location Citizen, Destination Provider home Location permanent, humanitarian visa holder, Destination Provider home Location holder of a permanent visa other than a permanent humanitarian visa\" Response:\n",
            "Reference Answers:\n",
            "['Students who study in foreign educational institutions. In Australia you are considered to be an overseas student if you’re not an Australian citizen', '\"International Student is Any student who is not a domestic student OR a student who is NOT one of the following: Destination Provider home Location Citizen, Destination Provider home Location permanent, humanitarian visa holder, Destination Provider home Location holder of a permanent visa other than a permanent humanitarian visa.', '\"Course is Data relating to a program of study offered by the institution. Also known as: Course, Degree. Multiple sub-types of program may exist (e.g. undergraduate, postgraduate, course work, higher degree by research, award, non-award), which may have additional data. created by Australian Government Department of Education and Training (HEIMS)\"', '\"Prospective Student is A student who is not currently enrolled into an institution, but is researching information available on a specific course they may be interested in. created by Study in Australia\"', '\"Domestic Student is A student who is one of the following: Destination Provider home Location Citizen, Destination Provider home Location permanent, humanitarian visa holder, Destination Provider home Location holder of a permanent visa other than a permanent humanitarian visa. created by Australian Government Department of Education and Training (HEIMS)\"']\n",
            "BLEU Score: 0.9264542328932247\n",
            "Memory Usage: 15103.07 MB\n",
            "Time taken for this query: 2.93 seconds\n",
            "\n"
          ]
        },
        {
          "name": "stderr",
          "output_type": "stream",
          "text": [
            "/usr/local/lib/python3.10/dist-packages/transformers/generation/configuration_utils.py:567: UserWarning: `do_sample` is set to `False`. However, `temperature` is set to `0.7` -- this flag is only used in sample-based generation modes. You should set `do_sample=True` or unset `temperature`.\n",
            "  warnings.warn(\n"
          ]
        },
        {
          "name": "stdout",
          "output_type": "stream",
          "text": [
            "Query: If a student completes a Certificate III and intends to directly pursue a Bachelor Degree, which concept from this dataset would likely apply to their transition?\n",
            "Generated Reply:\n",
            "to the next year level; (b) a level of academic achievement required to move from one year of a course to the next; (c) a level of academic achievement required to move from one year of a course to the next; (c) a level of academic achievement required to move from one year of a course to the next; (c) a level of academic achievement required to move from one year of a course to the next; (c) a level of academic achievement required to move from one\n",
            "Reference Answers:\n",
            "['\"Certificate III is Qualifies individuals who apply a broad range of knowledge and skills in varied contexts to undertake skilled work and as a pathway for further learning. Designed and accredited to enable graduates to demonstrate the learning outcomes expressed as knowledge, skills and the application of knowledge and skills specified in the level 3 criteria and the Certificate III descriptor. created by AQF (Australian Qualifications Framework)\"', '\"Programme Field (Legacy) is Structured stream in a field of study or discipline within a course. Progression is defined as moving from one course stage in a ‘pathway’ to another course stage in the ‘pathway’ OR moving from first semester units of study to second semester units of study within a course stage (i.e. moving progressively across degrees of difficulty from low to higher). NOTE: this definition is fundamentally the same as the TEQSA definition in that it signals the progress of a student through their defined course of study or pathway. Progression rules may specify: (a) the number of credit points or particular subjects which must be completed at each year level of the course before proceeding to the next year level; (b) a level of academic achievement required to move from one year of a course to the next; (c) a level of academic achievement to move from a lower qualification to a higher qualification in nested courses or to articulate from one course to another. Data related to a student\\'s activities in a program that forms their overall student record - such as progression towards completion, eligibility to graduate. The successful completion of all the academic requirements of a course which includes any required attendance, assignments, examinations, assessments, dissertations, practical experience and work experience in industry. created by Australian Government Department of Education and Training (HEIMS)\"', 'Where the Student has met the progression criteria', 'Undergraduate qualifications offered by most higher education institutions  - Bachelor degree: provides initial preparation for professional careers and postgraduate study and involve a minimum of three years of full-time study (some institutions offer a fast-track system', '\"Under Graduate Programme Type is E.g.;Diploma (Stage 1, Stage 2), Bachelor Degree, Honors Degree Associate Degree, Advanced Diploma, University Transfer Programme First Year Degree,  Second Year Degree, Under Graduate Global Success Programme (UPNA) etc.']\n",
            "BLEU Score: 0.42710755079884816\n",
            "Memory Usage: 15103.07 MB\n",
            "Time taken for this query: 3.85 seconds\n",
            "\n"
          ]
        },
        {
          "name": "stderr",
          "output_type": "stream",
          "text": [
            "/usr/local/lib/python3.10/dist-packages/transformers/generation/configuration_utils.py:567: UserWarning: `do_sample` is set to `False`. However, `temperature` is set to `0.7` -- this flag is only used in sample-based generation modes. You should set `do_sample=True` or unset `temperature`.\n",
            "  warnings.warn(\n"
          ]
        },
        {
          "name": "stdout",
          "output_type": "stream",
          "text": [
            "Query: Describe the relationship between Foundation Course and Pathway Course based on their respective definitions.\n",
            "Generated Reply:\n",
            "e.g. Foundation = 5.5 IELTS; Diploma = 6.0 IELTS OR A path or sequence of learning or experience that can be followed to achieve a final study goal. Query: Describe the relationship between Foundation Course and Pathway Course based on their respective definitions. Query: Describe the relationship between Foundation Course and Pathway Course based on their respective definitions.\n",
            "Reference Answers:\n",
            "['\"Pathway Course is An award or non-award course/program that a student completes ahead of access to a subsequent course (e.g. ELICOS ahead of Foundation Program; diploma ahead of degree, undergraduate degree ahead of postgraduate degree etc).  Pathway courses/programs typically include: ELICOS, Foundation, Diploma, Pre-Masters, but may also include other sub-bachelor courses such as associate degrees. created by TEQSA\"', '\"Pathway is UNDERGRADUATE STUDIES in the ‘pathway’ could consist of three (3) stages; each stage is a course in its own right. An English language course may be necessary for students who do not meet English language requirements; a Foundation course may be necessary if they don’t meet the academic requirements for entry to the Diploma; or, direct entry to a Diploma course if they meet both the English language and the academic requirements. All Foundation and Diploma courses will have an English language entry score e.g. Foundation = 5.5 IELTS; Diploma = 6.0 IELTS OR  A path or sequence of learning or experience that can be followed to achieve a final study goal, for example, ‘Pathway’ from a Diploma of Business into a Bachelor of Business. Useful for students who do not yet meet the entry criteria for the course they would like to study. created by Australian Government Dictionary\"', '\"Foundation Course is Non-award pre-tertiary one-year introductory course completed in preparation for entry to a full multi-year degree program offered by a university. Progression to the degree is usually dependent on the student achieving a prescribed academic level within the Foundation Program (FP). If a student fails to achieve the necessary academic level, they can move to a sub-degree course such as a diploma, and progress from there to their preferred degree (typically contingent on achieving a certain academic level in the diploma). FP is effectively a Year 12 equivalent course of general studies (however, students can undertake some discipline specific subjects (e.g. pre-requisites) to set them up for a subsequent specialized degree. OR preparatory, pre-vocational or bridging course to prepare a student for further study or training. Access courses are offered particularly for immigrants, overseas students and adults who are seeking to re-enter the workforce. Foundation courses help international students who may not initially meet entry requirements to gain entry to undergraduate study at Australian universities and colleges. They also help students adapt to the academic environment and life in Australia. Some foundation courses promise a place at university after successful completion of the course. FPs for international students are nationally recognised courses that equip students with skills and capabilities to seek entry into higher education programs in Australia. FPs provide an academic entry pathway to first year undergraduate study or its equivalent. created by UKVI\"', 'Foundation Level is Programs for international students that are nationally recognised courses to equip students with skills and capabilities to seek entry into higher education programs in Australia. They provide an academic entry pathway to first year undergraduate study or its equivalent. created by Australian Government Department of Education (ESOS Framework)', 'Foundation Programme Type is Certificate Foundation Studies etc. refers to non-award programs specifically approved by the Academic Board as pathways into award courses. created by NULL']\n",
            "BLEU Score: 0.4912059935622293\n",
            "Memory Usage: 15103.07 MB\n",
            "Time taken for this query: 3.05 seconds\n",
            "\n"
          ]
        },
        {
          "name": "stderr",
          "output_type": "stream",
          "text": [
            "/usr/local/lib/python3.10/dist-packages/transformers/generation/configuration_utils.py:567: UserWarning: `do_sample` is set to `False`. However, `temperature` is set to `0.7` -- this flag is only used in sample-based generation modes. You should set `do_sample=True` or unset `temperature`.\n",
            "  warnings.warn(\n"
          ]
        },
        {
          "name": "stdout",
          "output_type": "stream",
          "text": [
            "Query: What percentage of modules studied that received a pass grade is referred to in the dataset, and under what name is this metric captured?\n",
            "Generated Reply:\n",
            ": What percentage of modules studied that received a pass grade is referred to in the dataset. Query: What percentage of modules studied that received a pass grade is referred to in the dataset, and under what name is this metric captured? Response:\n",
            "Reference Answers:\n",
            "['Assessment Result is The mark given for an assessment item created by The University of Western Australia', '\"Retention Rate is Navitas Retention Rate (Census to Census):', '\"Used as a standard measure of student load across the University for statistical and budgeting purposes. created by Australian Government Department of Education and Training (HEIMS)\"\"\"', '(a)   the number of credit points or particular subjects which must be completed at each year level of the course before proceeding to the next year level;', '\"Unit Result is A code which identifies whether a student has completed, failed, withdrawn from, will commence later in the year or is still in the process of completing a unit of study']\n",
            "BLEU Score: 0.02751491233217311\n",
            "Memory Usage: 15103.07 MB\n",
            "Time taken for this query: 2.28 seconds\n",
            "\n"
          ]
        },
        {
          "name": "stderr",
          "output_type": "stream",
          "text": [
            "/usr/local/lib/python3.10/dist-packages/transformers/generation/configuration_utils.py:567: UserWarning: `do_sample` is set to `False`. However, `temperature` is set to `0.7` -- this flag is only used in sample-based generation modes. You should set `do_sample=True` or unset `temperature`.\n",
            "  warnings.warn(\n"
          ]
        },
        {
          "name": "stdout",
          "output_type": "stream",
          "text": [
            "Query: If a student qualifies under the Doctoral Degree (Research) category of the AQF, what learning outcome is significant in their qualification process?\n",
            "Generated Reply:\n",
            "in the Doctoral Degree (Research) category of the AQF, what learning outcome is significant in their qualification process? Query: Doctoral Degree is Course with major research component: comprised of two-thirds or more research leading to a thesis/dissertation OR qualifies individuals who apply a substantial body of knowledge to research, investigate and develop new knowledge. Designed and accredited to enable graduates to demonstrate learning outcomes expressed as knowledge, skills and the application of knowledge and skills specified in the level 5 criteria and\n",
            "Reference Answers:\n",
            "['\"Doctoral Degree is Course with major research component: comprised of two-thirds or more research leading to a thesis/dissertation OR qualifies individuals who apply a substantial body of knowledge to research, investigate and develop new knowledge, in one or more fields of investigation, scholarship or professional practice. Two forms of Doctoral Degree with the same descriptor within the Doctoral Degree qualification type: the Doctoral Degree (Research) and the Doctoral Degree (Professional). Research is the defining characteristic of all Doctoral Degree qualifications. The research Doctoral Degree (typically referred to as a Doctor of Philosophy) makes a significant and original contribution to knowledge; the professional Doctoral Degree (typically titled Doctor of [field of study]) makes a significant and original contribution to knowledge in the context of professional practice. Learning outcomes and research may differ between the different forms of Doctoral Degree qualifications. Designed and accredited to enable graduates to demonstrate the learning outcomes specified in the level 10 criteria and the Doctoral Degree. created by AQF (Australian Qualifications Framework)\"', '\"Bachelor Degree is Qualifies individuals who apply a broad and coherent body of knowledge in a range of contexts to undertake professional work and as a pathway for further learning. Qualifications must be designed and accredited to enable graduates to demonstrate learning outcomes expressed as knowledge, skills and the application of knowledge and skills specified in the level 7 criteria and the Bachelor Degree descriptor. created by AQF (Australian Qualifications Framework)\"', '\"Diploma (Higher Education Diploma)\\xa0 is Qualifies individuals who apply integrated technical and theoretical concepts in a broad range of contexts to undertake advanced skilled or paraprofessional work and as a pathway for further learning. Designed and accredited to enable graduates to demonstrate the learning outcomes expressed as knowledge, skills and the application of knowledge and skills specified in the level 5 criteria and the Diploma descriptor. Qualifications are available for accreditation and issuance in both higher education and vocational education and training OR a qualification with learning outcomes that apply integrated technical and theoretical concepts in a broad range of contexts to undertake advanced skilled or paraprofessional work, and as a pathway to further learning. created by AQF (Australian Qualifications Framework)\"', '\"Graduate Certificate is Qualifies individuals who apply a body of knowledge in a range of contexts to undertake professional or highly skilled work and as a pathway for further learning. Designed and accredited to enable graduates to demonstrate the learning outcomes expressed as knowledge, skills and the application of knowledge and skills specified in the level 8 criteria and the Graduate Certificate descriptor. Graduate Certificate qualifications are available for accreditation and issuance in both higher education and vocational education and training. created by AQF (Australian Qualifications Framework)\"', '\"Graduate Diploma is Qualifies individuals who apply a body of knowledge in a range of contexts to undertake professional or highly skilled work and as a pathway for further learning. Designed and accredited to enable graduates to demonstrate the learning outcomes expressed as knowledge, skills and the application of knowledge and skills specified in the level 8 criteria and the Graduate Diploma descriptor. Graduate Diploma qualifications are available for accreditation and issuance in both higher education and vocational education and training. created by AQF (Australian Qualifications Framework)\"']\n",
            "BLEU Score: 0.7351527308918842\n",
            "Memory Usage: 15103.07 MB\n",
            "Time taken for this query: 4.02 seconds\n",
            "\n"
          ]
        },
        {
          "name": "stderr",
          "output_type": "stream",
          "text": [
            "/usr/local/lib/python3.10/dist-packages/transformers/generation/configuration_utils.py:567: UserWarning: `do_sample` is set to `False`. However, `temperature` is set to `0.7` -- this flag is only used in sample-based generation modes. You should set `do_sample=True` or unset `temperature`.\n",
            "  warnings.warn(\n"
          ]
        },
        {
          "name": "stdout",
          "output_type": "stream",
          "text": [
            "Query: Based on the definitions provided, how would the process of Admission differ from the process of Application, and what criteria must a student meet to progress from one to the other?\n",
            "Generated Reply:\n",
            "; (b) a level of academic achievement required to move from one year of a course to the next; (c) a level of academic achievement required to move from one year of a course to the next; (c) a level of academic achievement required to move from one year of a course to the next; (c) a level of academic achievement required to move from one year of a course to the next; (c) a level of academic achievement to move from a lower qualification to a\n",
            "Reference Answers:\n",
            "['(b)   a level of academic achievement required to move from one year of a course to the next;', '\"Programme Field (Legacy) is Structured stream in a field of study or discipline within a course. Progression is defined as moving from one course stage in a ‘pathway’ to another course stage in the ‘pathway’ OR moving from first semester units of study to second semester units of study within a course stage (i.e. moving progressively across degrees of difficulty from low to higher). NOTE: this definition is fundamentally the same as the TEQSA definition in that it signals the progress of a student through their defined course of study or pathway. Progression rules may specify: (a) the number of credit points or particular subjects which must be completed at each year level of the course before proceeding to the next year level; (b) a level of academic achievement required to move from one year of a course to the next; (c) a level of academic achievement to move from a lower qualification to a higher qualification in nested courses or to articulate from one course to another. Data related to a student\\'s activities in a program that forms their overall student record - such as progression towards completion, eligibility to graduate. The successful completion of all the academic requirements of a course which includes any required attendance, assignments, examinations, assessments, dissertations, practical experience and work experience in industry. created by Australian Government Department of Education and Training (HEIMS)\"', '\"Application is Applicant\\'s instruction to be considered for a programme of study by submitting an application form', 'Where the Student has met the progression criteria', '(c)   a level of academic achievement to move from a lower qualification to a higher qualification in nested courses or to articulate from one course to another.']\n",
            "BLEU Score: 0.4591048976220677\n",
            "Memory Usage: 15103.07 MB\n",
            "Time taken for this query: 3.81 seconds\n",
            "\n"
          ]
        }
      ],
      "source": [
        "if __name__ == \"__main__\":\n",
        "    definitions = load_definitions('ctx_pd.txt')\n",
        "    definitions = clean_definitions(definitions)\n",
        "\n",
        "    # initialized retriever model and agenerate model\n",
        "    retriever = Retriever(definitions, num_retrieved_docs=5)\n",
        "    assistant = T5Assistant(model_name='t5-small')\n",
        "\n",
        "    # sample query\n",
        "    generalquestions = [\n",
        "    \"What is the definition of Articulation?\",\n",
        "    \"Which accreditation framework is mentioned under the definition of Doctoral Degree?\",\n",
        "    \"Which organization is referenced in the definition of Assessment?\",\n",
        "    \"What is the difference between a Bachelor Degree and a Bachelor Honours Degree with reference to qualification level in the AQF?\",\n",
        "    \"If a student studies in a foreign educational institution and is not a citizen or permanent resident of Australia, what term would the dataset use to categorize them as per the definitions?\",\n",
        "    \"If a student completes a Certificate III and intends to directly pursue a Bachelor Degree, which concept from this dataset would likely apply to their transition?\",\n",
        "    \"Describe the relationship between Foundation Course and Pathway Course based on their respective definitions.\",\n",
        "    \"What percentage of modules studied that received a pass grade is referred to in the dataset, and under what name is this metric captured?\",\n",
        "    \"If a student qualifies under the Doctoral Degree (Research) category of the AQF, what learning outcome is significant in their qualification process?\",\n",
        "    \"Based on the definitions provided, how would the process of Admission differ from the process of Application, and what criteria must a student meet to progress from one to the other?\"]\n",
        "\n",
        "\n",
        "    for query in generalquestions:\n",
        "        start_time = time.time()\n",
        "\n",
        "        # search related definition\n",
        "        retrieved_docs = retriever.search(query)\n",
        "        retrinfo = \" \".join([doc.page_content for doc in retrieved_docs[:3]])\n",
        "        referencess = [doc.page_content for doc in retrieved_docs]\n",
        "\n",
        "        # generate the reply\n",
        "        geberakreplyss = assistant.generate_reply(query, retrinfo)\n",
        "        geberakreplyss = cleanreplys(geberakreplyss)\n",
        "\n",
        "        # calculate the Bleu score\n",
        "        bleu_score = calculate_bleu(referencess, geberakreplyss) if referencess else \"N/A\"\n",
        "\n",
        "        # print the result\n",
        "        print(f\"Query: {query}\")\n",
        "        print(f\"Generated Reply:\\n{geberakreplyss}\")\n",
        "        print(f\"Reference Answers:\\n{referencess}\")\n",
        "        print(f\"BLEU Score: {bleu_score}\")\n",
        "\n",
        "        print_memory_usage()\n",
        "\n",
        "        end_time = time.time()\n",
        "        print(f\"Time taken for this query: {end_time - start_time:.2f} seconds\\n\")\n"
      ]
    }
  ],
  "metadata": {
    "accelerator": "GPU",
    "application/vnd.databricks.v1+notebook": {
      "dashboards": [],
      "environmentMetadata": {
        "base_environment": "",
        "client": "1"
      },
      "language": "python",
      "notebookMetadata": {
        "pythonIndentUnit": 2
      },
      "notebookName": "RAG",
      "widgets": {}
    },
    "colab": {
      "gpuType": "T4",
      "machine_shape": "hm",
      "provenance": []
    },
    "kernelspec": {
      "display_name": "Python 3",
      "name": "python3"
    },
    "language_info": {
      "name": "python"
    }
  },
  "nbformat": 4,
  "nbformat_minor": 0
}
