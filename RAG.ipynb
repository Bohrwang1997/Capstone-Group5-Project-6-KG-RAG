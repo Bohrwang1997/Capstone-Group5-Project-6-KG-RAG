{
 "cells": [
  {
   "cell_type": "code",
   "execution_count": 0,
   "metadata": {
    "application/vnd.databricks.v1+cell": {
     "cellMetadata": {
      "byteLimit": 2048000,
      "rowLimit": 10000
     },
     "inputWidgets": {},
     "nuid": "7f5dde6f-7d7a-4509-bfc6-804ac1784189",
     "showTitle": false,
     "title": ""
    }
   },
   "outputs": [
    {
     "output_type": "stream",
     "name": "stdout",
     "output_type": "stream",
     "text": [
      "\u001B[43mNote: you may need to restart the kernel using %restart_python or dbutils.library.restartPython() to use updated packages.\u001B[0m\nRequirement already satisfied: torch in /databricks/python3/lib/python3.11/site-packages (2.3.0+cpu)\nRequirement already satisfied: transformers in /databricks/python3/lib/python3.11/site-packages (4.40.2)\nRequirement already satisfied: faiss-cpu in /local_disk0/.ephemeral_nfs/envs/pythonEnv-eca87918-1325-4aaf-bd3c-9a67f9511ac6/lib/python3.11/site-packages (1.8.0.post1)\nRequirement already satisfied: numpy in /databricks/python3/lib/python3.11/site-packages (1.23.5)\nRequirement already satisfied: rouge-score in /local_disk0/.ephemeral_nfs/envs/pythonEnv-eca87918-1325-4aaf-bd3c-9a67f9511ac6/lib/python3.11/site-packages (0.1.2)\nRequirement already satisfied: nltk in /databricks/python3/lib/python3.11/site-packages (3.8.1)\nRequirement already satisfied: sacrebleu in /local_disk0/.ephemeral_nfs/envs/pythonEnv-eca87918-1325-4aaf-bd3c-9a67f9511ac6/lib/python3.11/site-packages (2.4.3)\nRequirement already satisfied: filelock in /databricks/python3/lib/python3.11/site-packages (from torch) (3.13.4)\nRequirement already satisfied: typing-extensions>=4.8.0 in /databricks/python3/lib/python3.11/site-packages (from torch) (4.10.0)\nRequirement already satisfied: sympy in /databricks/python3/lib/python3.11/site-packages (from torch) (1.11.1)\nRequirement already satisfied: networkx in /databricks/python3/lib/python3.11/site-packages (from torch) (3.1)\nRequirement already satisfied: jinja2 in /databricks/python3/lib/python3.11/site-packages (from torch) (3.1.2)\nRequirement already satisfied: fsspec in /databricks/python3/lib/python3.11/site-packages (from torch) (2023.5.0)\nRequirement already satisfied: huggingface-hub<1.0,>=0.19.3 in /databricks/python3/lib/python3.11/site-packages (from transformers) (0.21.2)\nRequirement already satisfied: packaging>=20.0 in /databricks/python3/lib/python3.11/site-packages (from transformers) (23.2)\nRequirement already satisfied: pyyaml>=5.1 in /databricks/python3/lib/python3.11/site-packages (from transformers) (6.0)\nRequirement already satisfied: regex!=2019.12.17 in /databricks/python3/lib/python3.11/site-packages (from transformers) (2022.7.9)\nRequirement already satisfied: requests in /databricks/python3/lib/python3.11/site-packages (from transformers) (2.31.0)\nRequirement already satisfied: tokenizers<0.20,>=0.19 in /databricks/python3/lib/python3.11/site-packages (from transformers) (0.19.0)\nRequirement already satisfied: safetensors>=0.4.1 in /databricks/python3/lib/python3.11/site-packages (from transformers) (0.4.2)\nRequirement already satisfied: tqdm>=4.27 in /databricks/python3/lib/python3.11/site-packages (from transformers) (4.65.0)\nRequirement already satisfied: absl-py in /databricks/python3/lib/python3.11/site-packages (from rouge-score) (1.0.0)\nRequirement already satisfied: six>=1.14.0 in /usr/lib/python3/dist-packages (from rouge-score) (1.16.0)\nRequirement already satisfied: click in /databricks/python3/lib/python3.11/site-packages (from nltk) (8.0.4)\nRequirement already satisfied: joblib in /databricks/python3/lib/python3.11/site-packages (from nltk) (1.2.0)\nRequirement already satisfied: portalocker in /databricks/python3/lib/python3.11/site-packages (from sacrebleu) (2.8.2)\nRequirement already satisfied: tabulate>=0.8.9 in /local_disk0/.ephemeral_nfs/envs/pythonEnv-eca87918-1325-4aaf-bd3c-9a67f9511ac6/lib/python3.11/site-packages (from sacrebleu) (0.9.0)\nRequirement already satisfied: colorama in /local_disk0/.ephemeral_nfs/envs/pythonEnv-eca87918-1325-4aaf-bd3c-9a67f9511ac6/lib/python3.11/site-packages (from sacrebleu) (0.4.6)\nRequirement already satisfied: lxml in /databricks/python3/lib/python3.11/site-packages (from sacrebleu) (4.9.2)\nRequirement already satisfied: MarkupSafe>=2.0 in /databricks/python3/lib/python3.11/site-packages (from jinja2->torch) (2.1.1)\nRequirement already satisfied: charset-normalizer<4,>=2 in /databricks/python3/lib/python3.11/site-packages (from requests->transformers) (2.0.4)\nRequirement already satisfied: idna<4,>=2.5 in /databricks/python3/lib/python3.11/site-packages (from requests->transformers) (3.4)\nRequirement already satisfied: urllib3<3,>=1.21.1 in /databricks/python3/lib/python3.11/site-packages (from requests->transformers) (1.26.16)\nRequirement already satisfied: certifi>=2017.4.17 in /databricks/python3/lib/python3.11/site-packages (from requests->transformers) (2023.7.22)\nRequirement already satisfied: mpmath>=0.19 in /databricks/python3/lib/python3.11/site-packages (from sympy->torch) (1.3.0)\n\u001B[43mNote: you may need to restart the kernel using %restart_python or dbutils.library.restartPython() to use updated packages.\u001B[0m\n\u001B[43mNote: you may need to restart the kernel using %restart_python or dbutils.library.restartPython() to use updated packages.\u001B[0m\nRequirement already satisfied: sentence-transformers in /databricks/python3/lib/python3.11/site-packages (2.7.0)\nRequirement already satisfied: transformers<5.0.0,>=4.34.0 in /databricks/python3/lib/python3.11/site-packages (from sentence-transformers) (4.40.2)\nRequirement already satisfied: tqdm in /databricks/python3/lib/python3.11/site-packages (from sentence-transformers) (4.65.0)\nRequirement already satisfied: torch>=1.11.0 in /databricks/python3/lib/python3.11/site-packages (from sentence-transformers) (2.3.0+cpu)\nRequirement already satisfied: numpy in /databricks/python3/lib/python3.11/site-packages (from sentence-transformers) (1.23.5)\nRequirement already satisfied: scikit-learn in /databricks/python3/lib/python3.11/site-packages (from sentence-transformers) (1.3.0)\nRequirement already satisfied: scipy in /databricks/python3/lib/python3.11/site-packages (from sentence-transformers) (1.11.1)\nRequirement already satisfied: huggingface-hub>=0.15.1 in /databricks/python3/lib/python3.11/site-packages (from sentence-transformers) (0.21.2)\nRequirement already satisfied: Pillow in /databricks/python3/lib/python3.11/site-packages (from sentence-transformers) (9.4.0)\nRequirement already satisfied: filelock in /databricks/python3/lib/python3.11/site-packages (from huggingface-hub>=0.15.1->sentence-transformers) (3.13.4)\nRequirement already satisfied: fsspec>=2023.5.0 in /databricks/python3/lib/python3.11/site-packages (from huggingface-hub>=0.15.1->sentence-transformers) (2023.5.0)\nRequirement already satisfied: requests in /databricks/python3/lib/python3.11/site-packages (from huggingface-hub>=0.15.1->sentence-transformers) (2.31.0)\nRequirement already satisfied: pyyaml>=5.1 in /databricks/python3/lib/python3.11/site-packages (from huggingface-hub>=0.15.1->sentence-transformers) (6.0)\nRequirement already satisfied: typing-extensions>=3.7.4.3 in /databricks/python3/lib/python3.11/site-packages (from huggingface-hub>=0.15.1->sentence-transformers) (4.10.0)\nRequirement already satisfied: packaging>=20.9 in /databricks/python3/lib/python3.11/site-packages (from huggingface-hub>=0.15.1->sentence-transformers) (23.2)\nRequirement already satisfied: sympy in /databricks/python3/lib/python3.11/site-packages (from torch>=1.11.0->sentence-transformers) (1.11.1)\nRequirement already satisfied: networkx in /databricks/python3/lib/python3.11/site-packages (from torch>=1.11.0->sentence-transformers) (3.1)\nRequirement already satisfied: jinja2 in /databricks/python3/lib/python3.11/site-packages (from torch>=1.11.0->sentence-transformers) (3.1.2)\nRequirement already satisfied: regex!=2019.12.17 in /databricks/python3/lib/python3.11/site-packages (from transformers<5.0.0,>=4.34.0->sentence-transformers) (2022.7.9)\nRequirement already satisfied: tokenizers<0.20,>=0.19 in /databricks/python3/lib/python3.11/site-packages (from transformers<5.0.0,>=4.34.0->sentence-transformers) (0.19.0)\nRequirement already satisfied: safetensors>=0.4.1 in /databricks/python3/lib/python3.11/site-packages (from transformers<5.0.0,>=4.34.0->sentence-transformers) (0.4.2)\nRequirement already satisfied: joblib>=1.1.1 in /databricks/python3/lib/python3.11/site-packages (from scikit-learn->sentence-transformers) (1.2.0)\nRequirement already satisfied: threadpoolctl>=2.0.0 in /databricks/python3/lib/python3.11/site-packages (from scikit-learn->sentence-transformers) (2.2.0)\nRequirement already satisfied: MarkupSafe>=2.0 in /databricks/python3/lib/python3.11/site-packages (from jinja2->torch>=1.11.0->sentence-transformers) (2.1.1)\nRequirement already satisfied: charset-normalizer<4,>=2 in /databricks/python3/lib/python3.11/site-packages (from requests->huggingface-hub>=0.15.1->sentence-transformers) (2.0.4)\nRequirement already satisfied: idna<4,>=2.5 in /databricks/python3/lib/python3.11/site-packages (from requests->huggingface-hub>=0.15.1->sentence-transformers) (3.4)\nRequirement already satisfied: urllib3<3,>=1.21.1 in /databricks/python3/lib/python3.11/site-packages (from requests->huggingface-hub>=0.15.1->sentence-transformers) (1.26.16)\nRequirement already satisfied: certifi>=2017.4.17 in /databricks/python3/lib/python3.11/site-packages (from requests->huggingface-hub>=0.15.1->sentence-transformers) (2023.7.22)\nRequirement already satisfied: mpmath>=0.19 in /databricks/python3/lib/python3.11/site-packages (from sympy->torch>=1.11.0->sentence-transformers) (1.3.0)\n\u001B[43mNote: you may need to restart the kernel using %restart_python or dbutils.library.restartPython() to use updated packages.\u001B[0m\n\u001B[43mNote: you may need to restart the kernel using %restart_python or dbutils.library.restartPython() to use updated packages.\u001B[0m\nRequirement already satisfied: langchain in /local_disk0/.ephemeral_nfs/envs/pythonEnv-eca87918-1325-4aaf-bd3c-9a67f9511ac6/lib/python3.11/site-packages (0.3.0)\nRequirement already satisfied: PyYAML>=5.3 in /databricks/python3/lib/python3.11/site-packages (from langchain) (6.0)\nRequirement already satisfied: SQLAlchemy<3,>=1.4 in /databricks/python3/lib/python3.11/site-packages (from langchain) (1.4.39)\nRequirement already satisfied: aiohttp<4.0.0,>=3.8.3 in /databricks/python3/lib/python3.11/site-packages (from langchain) (3.8.5)\nRequirement already satisfied: langchain-core<0.4.0,>=0.3.0 in /local_disk0/.ephemeral_nfs/envs/pythonEnv-eca87918-1325-4aaf-bd3c-9a67f9511ac6/lib/python3.11/site-packages (from langchain) (0.3.5)\nRequirement already satisfied: langchain-text-splitters<0.4.0,>=0.3.0 in /local_disk0/.ephemeral_nfs/envs/pythonEnv-eca87918-1325-4aaf-bd3c-9a67f9511ac6/lib/python3.11/site-packages (from langchain) (0.3.0)\nRequirement already satisfied: langsmith<0.2.0,>=0.1.17 in /local_disk0/.ephemeral_nfs/envs/pythonEnv-eca87918-1325-4aaf-bd3c-9a67f9511ac6/lib/python3.11/site-packages (from langchain) (0.1.128)\nRequirement already satisfied: numpy<2,>=1 in /databricks/python3/lib/python3.11/site-packages (from langchain) (1.23.5)\nRequirement already satisfied: pydantic<3.0.0,>=2.7.4 in /local_disk0/.ephemeral_nfs/envs/pythonEnv-eca87918-1325-4aaf-bd3c-9a67f9511ac6/lib/python3.11/site-packages (from langchain) (2.9.2)\nRequirement already satisfied: requests<3,>=2 in /databricks/python3/lib/python3.11/site-packages (from langchain) (2.31.0)\nRequirement already satisfied: tenacity!=8.4.0,<9.0.0,>=8.1.0 in /databricks/python3/lib/python3.11/site-packages (from langchain) (8.2.2)\nRequirement already satisfied: attrs>=17.3.0 in /databricks/python3/lib/python3.11/site-packages (from aiohttp<4.0.0,>=3.8.3->langchain) (22.1.0)\nRequirement already satisfied: charset-normalizer<4.0,>=2.0 in /databricks/python3/lib/python3.11/site-packages (from aiohttp<4.0.0,>=3.8.3->langchain) (2.0.4)\nRequirement already satisfied: multidict<7.0,>=4.5 in /databricks/python3/lib/python3.11/site-packages (from aiohttp<4.0.0,>=3.8.3->langchain) (6.0.2)\nRequirement already satisfied: async-timeout<5.0,>=4.0.0a3 in /databricks/python3/lib/python3.11/site-packages (from aiohttp<4.0.0,>=3.8.3->langchain) (4.0.2)\nRequirement already satisfied: yarl<2.0,>=1.0 in /databricks/python3/lib/python3.11/site-packages (from aiohttp<4.0.0,>=3.8.3->langchain) (1.8.1)\nRequirement already satisfied: frozenlist>=1.1.1 in /databricks/python3/lib/python3.11/site-packages (from aiohttp<4.0.0,>=3.8.3->langchain) (1.3.3)\nRequirement already satisfied: aiosignal>=1.1.2 in /databricks/python3/lib/python3.11/site-packages (from aiohttp<4.0.0,>=3.8.3->langchain) (1.2.0)\nRequirement already satisfied: jsonpatch<2.0,>=1.33 in /databricks/python3/lib/python3.11/site-packages (from langchain-core<0.4.0,>=0.3.0->langchain) (1.33)\nRequirement already satisfied: packaging<25,>=23.2 in /databricks/python3/lib/python3.11/site-packages (from langchain-core<0.4.0,>=0.3.0->langchain) (23.2)\nRequirement already satisfied: typing-extensions>=4.7 in /databricks/python3/lib/python3.11/site-packages (from langchain-core<0.4.0,>=0.3.0->langchain) (4.10.0)\nRequirement already satisfied: httpx<1,>=0.23.0 in /databricks/python3/lib/python3.11/site-packages (from langsmith<0.2.0,>=0.1.17->langchain) (0.27.0)\nRequirement already satisfied: orjson<4.0.0,>=3.9.14 in /databricks/python3/lib/python3.11/site-packages (from langsmith<0.2.0,>=0.1.17->langchain) (3.10.3)\nRequirement already satisfied: annotated-types>=0.6.0 in /local_disk0/.ephemeral_nfs/envs/pythonEnv-eca87918-1325-4aaf-bd3c-9a67f9511ac6/lib/python3.11/site-packages (from pydantic<3.0.0,>=2.7.4->langchain) (0.7.0)\nRequirement already satisfied: pydantic-core==2.23.4 in /local_disk0/.ephemeral_nfs/envs/pythonEnv-eca87918-1325-4aaf-bd3c-9a67f9511ac6/lib/python3.11/site-packages (from pydantic<3.0.0,>=2.7.4->langchain) (2.23.4)\nRequirement already satisfied: idna<4,>=2.5 in /databricks/python3/lib/python3.11/site-packages (from requests<3,>=2->langchain) (3.4)\nRequirement already satisfied: urllib3<3,>=1.21.1 in /databricks/python3/lib/python3.11/site-packages (from requests<3,>=2->langchain) (1.26.16)\nRequirement already satisfied: certifi>=2017.4.17 in /databricks/python3/lib/python3.11/site-packages (from requests<3,>=2->langchain) (2023.7.22)\nRequirement already satisfied: greenlet!=0.4.17 in /databricks/python3/lib/python3.11/site-packages (from SQLAlchemy<3,>=1.4->langchain) (2.0.1)\nRequirement already satisfied: anyio in /databricks/python3/lib/python3.11/site-packages (from httpx<1,>=0.23.0->langsmith<0.2.0,>=0.1.17->langchain) (3.5.0)\nRequirement already satisfied: httpcore==1.* in /databricks/python3/lib/python3.11/site-packages (from httpx<1,>=0.23.0->langsmith<0.2.0,>=0.1.17->langchain) (1.0.5)\nRequirement already satisfied: sniffio in /databricks/python3/lib/python3.11/site-packages (from httpx<1,>=0.23.0->langsmith<0.2.0,>=0.1.17->langchain) (1.2.0)\nRequirement already satisfied: h11<0.15,>=0.13 in /databricks/python3/lib/python3.11/site-packages (from httpcore==1.*->httpx<1,>=0.23.0->langsmith<0.2.0,>=0.1.17->langchain) (0.14.0)\nRequirement already satisfied: jsonpointer>=1.9 in /databricks/python3/lib/python3.11/site-packages (from jsonpatch<2.0,>=1.33->langchain-core<0.4.0,>=0.3.0->langchain) (2.4)\n\u001B[43mNote: you may need to restart the kernel using %restart_python or dbutils.library.restartPython() to use updated packages.\u001B[0m\n"
     ]
    }
   ],
   "source": [
    "%pip install torch transformers faiss-cpu numpy rouge-score nltk sacrebleu\n",
    "%pip install sentence-transformers\n",
    "%pip install langchain\n",
    "%restart_python\n"
   ]
  },
  {
   "cell_type": "code",
   "execution_count": 0,
   "metadata": {
    "application/vnd.databricks.v1+cell": {
     "cellMetadata": {
      "byteLimit": 2048000,
      "rowLimit": 10000
     },
     "inputWidgets": {},
     "nuid": "abb70b72-4173-40ec-aece-8ea9e8ed988b",
     "showTitle": false,
     "title": ""
    }
   },
   "outputs": [
    {
     "output_type": "stream",
     "name": "stderr",
     "output_type": "stream",
     "text": [
      "2024-09-25 16:25:09.179252: I external/local_tsl/tsl/cuda/cudart_stub.cc:32] Could not find cuda drivers on your machine, GPU will not be used.\n2024-09-25 16:25:09.184293: I external/local_tsl/tsl/cuda/cudart_stub.cc:32] Could not find cuda drivers on your machine, GPU will not be used.\n2024-09-25 16:25:09.252366: I tensorflow/core/platform/cpu_feature_guard.cc:210] This TensorFlow binary is optimized to use available CPU instructions in performance-critical operations.\nTo enable the following instructions: AVX2 FMA, in other operations, rebuild TensorFlow with the appropriate compiler flags.\n2024-09-25 16:25:10.978804: W tensorflow/compiler/tf2tensorrt/utils/py_utils.cc:38] TF-TRT Warning: Could not find TensorRT\n/local_disk0/.ephemeral_nfs/envs/pythonEnv-eca87918-1325-4aaf-bd3c-9a67f9511ac6/lib/python3.11/site-packages/pydantic/_internal/_fields.py:132: UserWarning: Field \"model_name\" in HuggingFaceInferenceAPIEmbeddings has conflict with protected namespace \"model_\".\n\nYou may be able to resolve this warning by setting `model_config['protected_namespaces'] = ()`.\n  warnings.warn(\n"
     ]
    }
   ],
   "source": [
    "# import libraries\n",
    "import torch\n",
    "from transformers import T5Tokenizer, T5ForConditionalGeneration\n",
    "from langchain.embeddings import HuggingFaceEmbeddings\n",
    "from langchain.vectorstores import FAISS\n",
    "import faiss\n",
    "import time\n",
    "import psutil\n",
    "from functools import lru_cache\n",
    "import nltk\n",
    "from nltk.translate.bleu_score import sentence_bleu, SmoothingFunction"
   ]
  },
  {
   "cell_type": "code",
   "execution_count": 0,
   "metadata": {
    "application/vnd.databricks.v1+cell": {
     "cellMetadata": {
      "byteLimit": 2048000,
      "rowLimit": 10000
     },
     "inputWidgets": {},
     "nuid": "ad36b9c6-8aa3-48df-b8e1-c9e0b0e7448a",
     "showTitle": false,
     "title": ""
    }
   },
   "outputs": [],
   "source": [
    "# define class fit the format \n",
    "class Document:\n",
    "    def __init__(self, page_content, metadata=None):\n",
    "        self.page_content = page_content\n",
    "        self.metadata = metadata or {}\n",
    "\n",
    "# Load definition files\n",
    "def load_definitions(file_path):\n",
    "    with open(file_path, 'r', encoding='utf-8') as file:\n",
    "        return [line.strip() for line in file if line.strip()]"
   ]
  },
  {
   "cell_type": "code",
   "execution_count": 0,
   "metadata": {
    "application/vnd.databricks.v1+cell": {
     "cellMetadata": {
      "byteLimit": 2048000,
      "rowLimit": 10000
     },
     "inputWidgets": {},
     "nuid": "87a1163a-19b4-44c5-88fa-f7c3938b0500",
     "showTitle": false,
     "title": ""
    }
   },
   "outputs": [],
   "source": [
    "# Generate embeddings for definitions\n",
    "class Retriever:\n",
    "    def __init__(self, definitions, num_retrieved_docs=5):\n",
    "        all_documents = [Document(definition) for definition in definitions]\n",
    "        embeddings = HuggingFaceEmbeddings(model_name=\"all-MiniLM-L6-v2\")\n",
    "        self.db = FAISS.from_documents(all_documents, embeddings)\n",
    "        self.retriever = self.db.as_retriever(search_kwargs={\"k\": num_retrieved_docs})\n",
    "        self.index = self.db.index\n",
    "\n",
    "    def search(self, query):\n",
    "        return self.retriever.get_relevant_documents(query)"
   ]
  },
  {
   "cell_type": "code",
   "execution_count": 0,
   "metadata": {
    "application/vnd.databricks.v1+cell": {
     "cellMetadata": {
      "byteLimit": 2048000,
      "rowLimit": 10000
     },
     "inputWidgets": {},
     "nuid": "418ad109-15af-4af4-8c9a-784a55147565",
     "showTitle": false,
     "title": ""
    }
   },
   "outputs": [],
   "source": [
    "# setup the generation model\n",
    "class T5Assistant:\n",
    "    def __init__(self, model_name='t5-small'):\n",
    "        self.tokenizer = T5Tokenizer.from_pretrained(model_name)\n",
    "        self.model = T5ForConditionalGeneration.from_pretrained(model_name)\n",
    "\n",
    "    def create_prompt(self, query, retrieved_info):\n",
    "        return (f\"Explain the concept or answer the question in a detailed manner using simple words and examples.\\n\"\n",
    "                f\"Instruction: {query}\\n\"\n",
    "                f\"Relevant information: {retrieved_info}\\n\"\n",
    "                f\"Output:\")\n",
    "\n",
    "    def generate_reply(self, query, retrieved_info):\n",
    "        prompt = self.create_prompt(query, retrieved_info)\n",
    "        input_ids = self.tokenizer(prompt, return_tensors=\"pt\", padding=True, truncation=True).input_ids\n",
    "        outputs = self.model.generate(input_ids, max_length=100, num_beams=5, early_stopping=True)\n",
    "        return self.tokenizer.decode(outputs[0], skip_special_tokens=True)"
   ]
  },
  {
   "cell_type": "code",
   "execution_count": 0,
   "metadata": {
    "application/vnd.databricks.v1+cell": {
     "cellMetadata": {
      "byteLimit": 2048000,
      "rowLimit": 10000
     },
     "inputWidgets": {},
     "nuid": "b8e4f953-4e65-49c9-8ded-1ff54d857952",
     "showTitle": false,
     "title": ""
    }
   },
   "outputs": [],
   "source": [
    "def calculate_bleu(reference, candidate):\n",
    "    reference = [reference.split()]\n",
    "    candidate = candidate.split()\n",
    "    smoothie = SmoothingFunction().method4 \n",
    "    return sentence_bleu(reference, candidate, smoothing_function=smoothie)\n",
    "  \n",
    "def print_memory_usage():\n",
    "    process = psutil.Process()\n",
    "    memory_info = process.memory_info()\n",
    "    print(f\"Memory Usage: {memory_info.rss / 1024 / 1024:.2f} MB\")\n",
    "\n",
    "@lru_cache(maxsize=10)\n",
    "def cached_generate_reply(assistant, query, retrieved_info):\n",
    "    return assistant.generate_reply(query, retrieved_info)"
   ]
  },
  {
   "cell_type": "code",
   "execution_count": 0,
   "metadata": {
    "application/vnd.databricks.v1+cell": {
     "cellMetadata": {
      "byteLimit": 2048000,
      "rowLimit": 10000
     },
     "inputWidgets": {},
     "nuid": "937e68e2-0306-439e-b265-018369e1e713",
     "showTitle": false,
     "title": ""
    }
   },
   "outputs": [
    {
     "output_type": "stream",
     "name": "stderr",
     "output_type": "stream",
     "text": [
      "/root/.ipykernel/4900/command-756413098566022-602137293:5: LangChainDeprecationWarning: The class `HuggingFaceEmbeddings` was deprecated in LangChain 0.2.2 and will be removed in 1.0. An updated version of the class exists in the :class:`~langchain-huggingface package and should be used instead. To use it run `pip install -U :class:`~langchain-huggingface` and import as `from :class:`~langchain_huggingface import HuggingFaceEmbeddings``.\n  embeddings = HuggingFaceEmbeddings(model_name=\"all-MiniLM-L6-v2\")\nYou are using the default legacy behaviour of the <class 'transformers.models.t5.tokenization_t5.T5Tokenizer'>. This is expected, and simply means that the `legacy` (previous) behavior will be used so nothing changes for you. If you want to use the new behaviour, set `legacy=False`. This should only be set if you understand what it means, and thoroughly read the reason why this was added as explained in https://github.com/huggingface/transformers/pull/24565\nSpecial tokens have been added in the vocabulary, make sure the associated word embeddings are fine-tuned or trained.\n/root/.ipykernel/4900/command-756413098566022-602137293:11: LangChainDeprecationWarning: The method `BaseRetriever.get_relevant_documents` was deprecated in langchain-core 0.1.46 and will be removed in 1.0. Use :meth:`~invoke` instead.\n  return self.retriever.get_relevant_documents(query)\n"
     ]
    },
    {
     "output_type": "stream",
     "name": "stdout",
     "output_type": "stream",
     "text": [
      "Query: What is accreditation?\nGenerated Reply:\naccreditation? Relevant information: Academic Accreditation is Approval process by an accrediting authority of a learning program leading to an AQF qualification. OR the evaluation of a course of study (either by TEQSA or by a self-accrediting provider such as a university) against course requirements specified in the Higher Education Standards Framework.\nReference Answer:\nAcademic Accreditation is Approval process by an accrediting authority of a learning program leading to an AQF qualification using the quality assurance standards for the relevant education and training sector OR the evaluation of a course of study (either by TEQSA or by a self-accrediting provider such as a university) against course requirements specified in the Higher Education Standards Framework. created by AQF (Australian Qualifications Framework)\nBLEU Score: 0.6617022713434835\nMemory Usage: 1582.30 MB\nTime taken for this query: 4.53 seconds\n\nQuery: How is assessment done?\nGenerated Reply:\n: \"Assessment is Assessment is the process of appraising, evaluating and making a judgment about someone's knowledge, skills and ability\" \"Assessment is Assessment is the process of appraising, evaluating and making a judgment about someone's knowledge, skills and abilities in order to determine if they have met with and achieved the designated learning outcomes of individual units of study\" \"Credit from Prior Learning is Recognition of Prior Learning\nReference Answer:\n\"Assessment is Assessment is the process of appraising, evaluating and making a judgment about someone's knowledge, skills and ability in order to determine if they have met with and achieved the designated learning outcomes of individual units of study.\nBLEU Score: 0.5102418759617424\nMemory Usage: 1582.30 MB\nTime taken for this query: 4.12 seconds\n\nQuery: What is a bachelor's degree?\nGenerated Reply:\n: \"Under Graduate Level is Academic program of study leading to a qualification, such as an associate degree, diploma or bachelor degree. Includes an honours degree. Undergraduate degrees are usually three or four years, and are also known as Bachelor’s degrees. created by Australian Government Dictionary\" Undergraduate qualifications offered by most higher education institutions - Bachelor degree: provides initial preparation for professional careers and postgraduate study and involve a minimum of three years of full-time study\nReference Answer:\n\"Under Graduate Level is Academic program of study leading to a qualification, such as an associate degree, diploma or bachelor degree. Includes an honours degree. Undergraduate degrees are usually three or four years, and are also known as Bachelor’s degrees. created by Australian Government Dictionary\"\nBLEU Score: 0.583765433019679\nMemory Usage: 1582.30 MB\nTime taken for this query: 4.16 seconds\n\nQuery: What is a campus?\nGenerated Reply:\nthe concept or answer the question in a detailed manner using simple words and examples. \"Managed Campus is A university campus managed by Navitas. Students are enrolled in the university and courses are self-accredited by the university. Navitas typically provides the premises, employs administration and teaching staff (subject to approval by the university), recruits the students and delivers the classes.\nReference Answer:\n\"Campus is Data relating to an institution's campus locations; the grounds and buildings where the institution conducts its learning and teaching, and research, activities OR a campus is the physical location from where a course or program of study is delivered. For on‑line/ distance education courses: the location where the course is administered. While some studies may require a student's attendance at locations such as a health centre, teaching hospital or agricultural farm, these are not campuses in the common understanding of a campus. In these circumstances the student load should be reported against the campus from where these studies are administered. created by Australian Government Department of Education and Training (HEIMS)\"\nBLEU Score: 0.008374816241067319\nMemory Usage: 1617.68 MB\nTime taken for this query: 4.51 seconds\n\n"
     ]
    }
   ],
   "source": [
    "if __name__ == \"__main__\":\n",
    "    # load the data\n",
    "    definitions = load_definitions('ctx_pd.txt')\n",
    "    \n",
    "    # initialized the models\n",
    "    retriever = Retriever(definitions, num_retrieved_docs=5)\n",
    "    assistant = T5Assistant(model_name='t5-small')\n",
    "\n",
    "    # create sample data\n",
    "    generated_queries = [\n",
    "        \"What is accreditation?\",\n",
    "        \"How is assessment done?\",\n",
    "        \"What is a bachelor's degree?\",\n",
    "        \"What is a campus?\"\n",
    "    ]\n",
    "\n",
    "    # calculate the bleu score\n",
    "    for query in generated_queries:\n",
    "        # recore time\n",
    "        start_time = time.time()\n",
    "        retrieved_docs = retriever.search(query)\n",
    "        retrieved_info = \" \".join([doc.page_content for doc in retrieved_docs])\n",
    "\n",
    "        # find the referance answer in the rag\n",
    "        reference_answer = retrieved_docs[0].page_content if retrieved_docs else \"\"\n",
    "\n",
    "        generated_reply = cached_generate_reply(assistant, query, retrieved_info)\n",
    "\n",
    "        if reference_answer:\n",
    "            bleu_score = calculate_bleu(reference_answer, generated_reply)\n",
    "        else:\n",
    "            bleu_score = \"N/A\"  \n",
    "\n",
    "        # print out the solution\n",
    "        print(f\"Query: {query}\")\n",
    "        print(f\"Generated Reply:\\n{generated_reply}\")\n",
    "        print(f\"Reference Answer:\\n{reference_answer}\")\n",
    "        print(f\"BLEU Score: {bleu_score}\")\n",
    "\n",
    "        print_memory_usage()\n",
    "\n",
    "        end_time = time.time()\n",
    "        print(f\"Time taken for this query: {end_time - start_time:.2f} seconds\\n\")"
   ]
  }
 ],
 "metadata": {
  "application/vnd.databricks.v1+notebook": {
   "dashboards": [],
   "environmentMetadata": {
    "base_environment": "",
    "client": "1"
   },
   "language": "python",
   "notebookMetadata": {
    "pythonIndentUnit": 2
   },
   "notebookName": "RAG",
   "widgets": {}
  }
 },
 "nbformat": 4,
 "nbformat_minor": 0
}
